{
  "nbformat": 4,
  "nbformat_minor": 0,
  "metadata": {
    "colab": {
      "name": "pizza.ipynb",
      "provenance": [],
      "collapsed_sections": []
    },
    "kernelspec": {
      "name": "python3",
      "display_name": "Python 3"
    },
    "language_info": {
      "name": "python"
    }
  },
  "cells": [
    {
      "cell_type": "code",
      "metadata": {
        "colab": {
          "base_uri": "https://localhost:8080/"
        },
        "id": "OwbuSPu6VOJR",
        "outputId": "8651d482-dc09-4749-e9e9-c538c662dd3c"
      },
      "source": [
        "pizza={'small':{'price':150,'peperoni':20,'extra cheese':10},\n",
        "       'medium':{'price':200,'peperoni':30,'extra cheese':10},\n",
        "       'large':{'price':250,'peperoni':30,'extra cheese':10}}\n",
        "rate={}\n",
        "while True:\n",
        "  a=int(input('item size:'))\n",
        "  if a==1:\n",
        "    print('small pizza:',pizza['small'])\n",
        "    b=int(input('addons:'))\n",
        "    if b==1:\n",
        "      print('no addons')\n",
        "      rate['price1']=pizza['small']['price']\n",
        "    if b==2:\n",
        "      print('add peperoni')\n",
        "      rate['price2']=pizza['small']['price']+pizza['small']['peperoni']\n",
        "    if b==3:\n",
        "      print('add cheese')\n",
        "      rate['price3']=pizza['small']['price']+pizza['small']['extra cheese']\n",
        "    if b==4:\n",
        "      print('add peperoni and cheese')\n",
        "      rate['price4']=pizza['small']['price']+pizza['small']['peperoni']+pizza['small']['extra cheese']\n",
        "  if a==2:\n",
        "    print('medium pizza:',pizza['medium'])\n",
        "    b=int(input('addons:'))\n",
        "    if b==1:\n",
        "      print('no addons')\n",
        "      rate['price5']=pizza['medium']['price']\n",
        "    if b==2:\n",
        "      print('add peperoni')\n",
        "      rate['price6']=pizza['medium']['price']+pizza['medium']['peperoni']\n",
        "    if b==3:\n",
        "      print('add cheese')\n",
        "      rate['price7']=pizza['medium']['price']+pizza['medium']['extra cheese']\n",
        "    if b==4:\n",
        "      print('add peperoni and cheese')\n",
        "      rate['price8']=pizza['medium']['price']+pizza['medium']['peperoni']+pizza['medium']['extra cheese']\n",
        "  if a==3:\n",
        "    print('large pizza:',pizza['large'])\n",
        "    b=int(input('addons:'))\n",
        "    if b==1:\n",
        "      print('no addons')\n",
        "      rate['price9']=pizza['large']['price']\n",
        "    if b==2:\n",
        "      print('add peperoni')\n",
        "      rate['price10']=pizza['large']['price']+pizza['large']['peperoni']\n",
        "    if b==3:\n",
        "      print('add cheese')\n",
        "      rate['price11']=pizza['large']['price']+pizza['large']['extra cheese']\n",
        "    if b==4:\n",
        "      print('add peperoni and cheese')\n",
        "      rate['price12']=pizza['large']['price']+pizza['large']['peperoni']+pizza['large']['extra cheese']\n",
        "  if a==4:\n",
        "    print('exit')\n",
        "    break\n",
        "r=rate.values()\n",
        "bill=sum(r)\n",
        "print('total bill:',bill)"
      ],
      "execution_count": 59,
      "outputs": [
        {
          "output_type": "stream",
          "name": "stdout",
          "text": [
            "item size:1\n",
            "small pizza: {'price': 150, 'peperoni': 20, 'extra cheese': 10}\n",
            "addons:1\n",
            "no addons\n",
            "item size:2\n",
            "medium pizza: {'price': 200, 'peperoni': 30, 'extra cheese': 10}\n",
            "addons:2\n",
            "add peperoni\n",
            "item size:3\n",
            "large pizza: {'price': 250, 'peperoni': 30, 'extra cheese': 10}\n",
            "addons:3\n",
            "add cheese\n",
            "item size:4\n",
            "exit\n",
            "total bill: 640\n"
          ]
        }
      ]
    }
  ]
}